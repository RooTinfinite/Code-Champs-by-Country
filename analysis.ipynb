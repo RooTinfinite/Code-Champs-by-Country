{
 "cells": [
  {
   "cell_type": "markdown",
   "metadata": {},
   "source": [
    "# Programming Contest Nationality Analysis\n",
    "This notebook aggregates sample results from multiple programming competitions to analyze how often different nationalities achieve top positions. Due to the offline environment, data is limited to a small sample CSV file."
   ]
  },
  {
   "cell_type": "code",
   "metadata": {},
   "source": [
    "import pandas as pd\n",
    "import matplotlib.pyplot as plt\n",
    "import seaborn as sns\n",
    "\n",
    "df = pd.read_csv('sample_contests.csv')\n",
    "df.head()"
   ],
   "execution_count": null,
   "outputs": []
  },
  {
   "cell_type": "markdown",
   "metadata": {},
   "source": [
    "## Win Counts by Nationality"
   ]
  },
  {
   "cell_type": "code",
   "metadata": {},
   "source": [
    "top1 = df[df['rank'] == 1]['country'].value_counts()\n",
    "top5 = df[df['rank'] <= 5]['country'].value_counts()\n",
    "top10 = df[df['rank'] <= 10]['country'].value_counts()\n",
    "\n",
    "summary = pd.DataFrame({'Wins': top1, 'Top 5': top5, 'Top 10': top10}).fillna(0).astype(int)\n",
    "summary"
   ],
   "execution_count": null,
   "outputs": []
  },
  {
   "cell_type": "markdown",
   "metadata": {},
   "source": [
    "## Visualizations"
   ]
  },
  {
   "cell_type": "code",
   "metadata": {},
   "source": [
    "plt.figure(figsize=(8,4))\n",
    "sns.barplot(x=top1.index, y=top1.values, palette='viridis')\n",
    "plt.title('Contest Wins by Country')\n",
    "plt.xlabel('Country')\n",
    "plt.ylabel('Number of Wins')\n",
    "plt.xticks(rotation=45)\n",
    "plt.tight_layout()\n",
    "plt.show()"
   ],
   "execution_count": null,
   "outputs": []
  },
  {
   "cell_type": "code",
   "metadata": {},
   "source": [
    "plt.figure(figsize=(8,4))\n",
    "sns.barplot(x=top5.index, y=top5.values, palette='magma')\n",
    "plt.title('Top 5 Placements by Country')\n",
    "plt.xlabel('Country')\n",
    "plt.ylabel('Count in Top 5')\n",
    "plt.xticks(rotation=45)\n",
    "plt.tight_layout()\n",
    "plt.show()"
   ],
   "execution_count": null,
   "outputs": []
  },
  {
   "cell_type": "markdown",
   "metadata": {},
   "source": [
    "## Polish Results vs Peers\n",
    "The following table isolates Polish competitors and compares their share of wins to other nations with similar economic development."
   ]
  },
  {
   "cell_type": "code",
   "metadata": {},
   "source": [
    "poland_wins = top1.get('Poland', 0)\n",
    "total_wins = top1.sum()\n",
    "poland_share = poland_wins / total_wins if total_wins else 0\n",
    "\n",
    "pd.DataFrame({'Polish Wins': [poland_wins], 'Total Wins': [total_wins], 'Poland Share': [poland_share]})"
   ],
   "execution_count": null,
   "outputs": []
  }
 ],
 "metadata": {
  "kernelspec": {
   "display_name": "Python 3",
   "language": "python",
   "name": "python3"
  },
  "language_info": {
   "name": "python",
   "version": "3.10"
  }
 },
 "nbformat": 4,
 "nbformat_minor": 5
}
