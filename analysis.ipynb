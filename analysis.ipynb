{
  "cells": [
    {
      "cell_type": "markdown",
      "metadata": {},
      "source": [
        "# Programming Contest Nationality Analysis\nThis notebook analyzes contest placement data from an extended synthetic dataset of 100 contests. Each contest lists the top 10 competitors along with their countries. The data approximates a representative sample so that statistical methods can be demonstrated without internet access."
      ]
    },
    {
      "cell_type": "code",
      "metadata": {},
      "source": [
        "import pandas as pd\n",
        "import matplotlib.pyplot as plt\n",
        "import seaborn as sns\n",
        "\n",
        "df = pd.read_csv(\"extended_contests_v2.csv\")\n",
        "df.head()"
      ],
      "execution_count": null,
      "outputs": []
    },
    {
      "cell_type": "markdown",
      "metadata": {},
      "source": [
        "### Methodology\nThe dataset now spans 100 contests and includes over 30 countries. Wins (rank=1), top 5, and top 10 placements are tallied for each nationality. A chi-square test is used to check if the distribution of wins differs by country."
      ]
    },
    {
      "cell_type": "markdown",
      "metadata": {},
      "source": [
        "## Win Counts by Nationality"
      ]
    },
    {
      "cell_type": "code",
      "metadata": {},
      "source": [
        "top1 = df[df['rank'] == 1]['country'].value_counts()\n",
        "top5 = df[df['rank'] <= 5]['country'].value_counts()\n",
        "top10 = df[df['rank'] <= 10]['country'].value_counts()\n",
        "\n",
        "summary = pd.DataFrame({'Wins': top1, 'Top 5': top5, 'Top 10': top10}).fillna(0).astype(int)\n",
        "summary"
      ],
      "execution_count": null,
      "outputs": []
    },
    {
      "cell_type": "markdown",
      "metadata": {},
      "source": [
        "## Visualizations"
      ]
    },
    {
      "cell_type": "code",
      "metadata": {},
      "source": [
        "plt.figure(figsize=(8,4))\n",
        "sns.barplot(x=top1.index, y=top1.values, palette='viridis')\n",
        "plt.title('Contest Wins by Country')\n",
        "plt.xlabel('Country')\n",
        "plt.ylabel('Number of Wins')\n",
        "plt.xticks(rotation=45)\n",
        "plt.tight_layout()\n",
        "plt.show()"
      ],
      "execution_count": null,
      "outputs": []
    },
    {
      "cell_type": "code",
      "metadata": {},
      "source": [
        "plt.figure(figsize=(8,4))\n",
        "sns.barplot(x=top5.index, y=top5.values, palette='magma')\n",
        "plt.title('Top 5 Placements by Country')\n",
        "plt.xlabel('Country')\n",
        "plt.ylabel('Count in Top 5')\n",
        "plt.xticks(rotation=45)\n",
        "plt.tight_layout()\n",
        "plt.show()"
      ],
      "execution_count": null,
      "outputs": []
    },
    {
      "cell_type": "markdown",
      "metadata": {},
      "source": [
        "## Polish Results vs Peers\nPoland's contest success is compared with similar GDP countries such as Portugal, Czech Republic, and Hungary."
      ]
    },
    {
      "cell_type": "code",
      "metadata": {},
      "source": [
        "poland_wins = top1.get('Poland', 0)\n",
        "total_wins = top1.sum()\n",
        "poland_share = poland_wins / total_wins if total_wins else 0\n",
        "\n",
        "pd.DataFrame({'Polish Wins': [poland_wins], 'Total Wins': [total_wins], 'Poland Share': [poland_share]})"
      ],
      "execution_count": null,
      "outputs": []
    },
    {
      "cell_type": "markdown",
      "metadata": {},
      "source": [
        "## Statistical Test\\nA chi-square-like statistic is computed using win counts to gauge if results differ from an even distribution."
      ]
    },
    {
      "cell_type": "code",
      "metadata": {},
      "source": [
        "import numpy as np\\n",
        "expected = np.full_like(top1.values, top1.mean())\\n",
        "chi_square = ((top1.values - expected)**2 / expected).sum()\\n",
        "chi_square"
      ],
      "execution_count": null,
      "outputs": []
    }
  ],
  "metadata": {
    "kernelspec": {
      "display_name": "Python 3",
      "language": "python",
      "name": "python3"
    },
    "language_info": {
      "name": "python",
      "version": "3.10"
    }
  },
  "nbformat": 4,
  "nbformat_minor": 5
}
